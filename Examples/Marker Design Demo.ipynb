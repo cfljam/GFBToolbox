{
 "metadata": {
  "name": "",
  "signature": "sha256:dcba3cbb563a03554bf1faefff3a6cf49dd1e991fcc292c093e8971f7be1df5d"
 },
 "nbformat": 3,
 "nbformat_minor": 0,
 "worksheets": [
  {
   "cells": [
    {
     "cell_type": "markdown",
     "metadata": {},
     "source": [
      "PCR Marker Design with Python Design Tools and iPython Notebooks\n",
      "==================="
     ]
    },
    {
     "cell_type": "code",
     "collapsed": false,
     "input": [
      "!git clone https://github.com/cfljam/galaxy-pcr-markers"
     ],
     "language": "python",
     "metadata": {},
     "outputs": [
      {
       "output_type": "stream",
       "stream": "stdout",
       "text": [
        "Cloning into 'galaxy-pcr-markers'...\r\n"
       ]
      },
      {
       "output_type": "stream",
       "stream": "stdout",
       "text": [
        "remote: Counting objects: 256, done.\u001b[K\r\n"
       ]
      },
      {
       "output_type": "stream",
       "stream": "stdout",
       "text": [
        "Receiving objects:   0% (1/256)   \r",
        "Receiving objects:   1% (3/256)   \r",
        "Receiving objects:   2% (6/256)   \r",
        "Receiving objects:   3% (8/256)   \r",
        "Receiving objects:   4% (11/256)   \r",
        "Receiving objects:   5% (13/256)   \r",
        "Receiving objects:   6% (16/256)   \r",
        "Receiving objects:   7% (18/256)   \r",
        "Receiving objects:   8% (21/256)   \r",
        "Receiving objects:   9% (24/256)   \r",
        "Receiving objects:  10% (26/256)   \r",
        "Receiving objects:  11% (29/256)   \r",
        "Receiving objects:  12% (31/256)   \r",
        "Receiving objects:  13% (34/256)   \r",
        "Receiving objects:  14% (36/256)   \r"
       ]
      },
      {
       "output_type": "stream",
       "stream": "stdout",
       "text": [
        "Receiving objects:  15% (39/256)   \r",
        "Receiving objects:  16% (41/256)   \r",
        "Receiving objects:  17% (44/256)   \r",
        "Receiving objects:  18% (47/256)   \r",
        "Receiving objects:  19% (49/256)   \r",
        "Receiving objects:  20% (52/256)   \r",
        "Receiving objects:  21% (54/256)   \r",
        "Receiving objects:  22% (57/256)   \r",
        "Receiving objects:  23% (59/256)   \r",
        "Receiving objects:  24% (62/256)   \r",
        "Receiving objects:  25% (64/256)   \r",
        "Receiving objects:  26% (67/256)   \r",
        "Receiving objects:  27% (70/256)   \r",
        "Receiving objects:  28% (72/256)   \r",
        "Receiving objects:  29% (75/256)   \r",
        "Receiving objects:  30% (77/256)   \r"
       ]
      },
      {
       "output_type": "stream",
       "stream": "stdout",
       "text": [
        "Receiving objects:  31% (80/256)   \r",
        "Receiving objects:  32% (82/256)   \r",
        "Receiving objects:  33% (85/256)   \r",
        "Receiving objects:  34% (88/256)   \r"
       ]
      },
      {
       "output_type": "stream",
       "stream": "stdout",
       "text": [
        "Receiving objects:  35% (90/256), 28.00 KiB | 38 KiB/s   \r",
        "Receiving objects:  36% (93/256), 28.00 KiB | 38 KiB/s   \r",
        "Receiving objects:  37% (95/256), 28.00 KiB | 38 KiB/s   \r",
        "Receiving objects:  38% (98/256), 28.00 KiB | 38 KiB/s   \r"
       ]
      },
      {
       "output_type": "stream",
       "stream": "stdout",
       "text": [
        "Receiving objects:  39% (100/256), 28.00 KiB | 38 KiB/s   \r",
        "Receiving objects:  40% (103/256), 28.00 KiB | 38 KiB/s   \r",
        "Receiving objects:  41% (105/256), 28.00 KiB | 38 KiB/s   \r"
       ]
      },
      {
       "output_type": "stream",
       "stream": "stdout",
       "text": [
        "Receiving objects:  42% (108/256), 28.00 KiB | 38 KiB/s   \r",
        "Receiving objects:  43% (111/256), 28.00 KiB | 38 KiB/s   \r"
       ]
      },
      {
       "output_type": "stream",
       "stream": "stdout",
       "text": [
        "Receiving objects:  44% (113/256), 60.00 KiB | 43 KiB/s   \r",
        "Receiving objects:  45% (116/256), 60.00 KiB | 43 KiB/s   \r",
        "Receiving objects:  46% (118/256), 60.00 KiB | 43 KiB/s   \r",
        "Receiving objects:  47% (121/256), 60.00 KiB | 43 KiB/s   \r",
        "Receiving objects:  48% (123/256), 60.00 KiB | 43 KiB/s   \r",
        "Receiving objects:  49% (126/256), 60.00 KiB | 43 KiB/s   \r"
       ]
      },
      {
       "output_type": "stream",
       "stream": "stdout",
       "text": [
        "Receiving objects:  50% (128/256), 60.00 KiB | 43 KiB/s   \r",
        "Receiving objects:  51% (131/256), 60.00 KiB | 43 KiB/s   \r",
        "Receiving objects:  52% (134/256), 60.00 KiB | 43 KiB/s   \r",
        "Receiving objects:  53% (136/256), 60.00 KiB | 43 KiB/s   \r",
        "Receiving objects:  54% (139/256), 60.00 KiB | 43 KiB/s   \r",
        "Receiving objects:  55% (141/256), 60.00 KiB | 43 KiB/s   \r",
        "Receiving objects:  56% (144/256), 60.00 KiB | 43 KiB/s   \r",
        "Receiving objects:  57% (146/256), 60.00 KiB | 43 KiB/s   \r",
        "Receiving objects:  58% (149/256), 60.00 KiB | 43 KiB/s   \r",
        "Receiving objects:  59% (152/256), 60.00 KiB | 43 KiB/s   \r",
        "Receiving objects:  60% (154/256), 60.00 KiB | 43 KiB/s   \r",
        "Receiving objects:  61% (157/256), 60.00 KiB | 43 KiB/s   \r",
        "Receiving objects:  62% (159/256), 60.00 KiB | 43 KiB/s   \r",
        "Receiving objects:  63% (162/256), 60.00 KiB | 43 KiB/s   \r",
        "Receiving objects:  64% (164/256), 60.00 KiB | 43 KiB/s   \r",
        "Receiving objects:  65% (167/256), 60.00 KiB | 43 KiB/s   \r"
       ]
      },
      {
       "output_type": "stream",
       "stream": "stdout",
       "text": [
        "Receiving objects:  66% (169/256), 60.00 KiB | 43 KiB/s   \r",
        "Receiving objects:  67% (172/256), 60.00 KiB | 43 KiB/s   \r",
        "Receiving objects:  68% (175/256), 60.00 KiB | 43 KiB/s   \r",
        "Receiving objects:  69% (177/256), 60.00 KiB | 43 KiB/s   \r",
        "Receiving objects:  70% (180/256), 60.00 KiB | 43 KiB/s   \r",
        "Receiving objects:  71% (182/256), 60.00 KiB | 43 KiB/s   \r",
        "Receiving objects:  72% (185/256), 60.00 KiB | 43 KiB/s   \r",
        "Receiving objects:  73% (187/256), 60.00 KiB | 43 KiB/s   \r",
        "Receiving objects:  74% (190/256), 60.00 KiB | 43 KiB/s   \r",
        "Receiving objects:  75% (192/256), 60.00 KiB | 43 KiB/s   \r",
        "Receiving objects:  76% (195/256), 60.00 KiB | 43 KiB/s   \r",
        "Receiving objects:  77% (198/256), 60.00 KiB | 43 KiB/s   \r",
        "Receiving objects:  78% (200/256), 60.00 KiB | 43 KiB/s   \r",
        "Receiving objects:  79% (203/256), 60.00 KiB | 43 KiB/s   \r",
        "Receiving objects:  80% (205/256), 60.00 KiB | 43 KiB/s   \r",
        "Receiving objects:  81% (208/256), 60.00 KiB | 43 KiB/s   \r",
        "Receiving objects:  82% (210/256), 60.00 KiB | 43 KiB/s   \r",
        "Receiving objects:  83% (213/256), 60.00 KiB | 43 KiB/s   \r"
       ]
      },
      {
       "output_type": "stream",
       "stream": "stdout",
       "text": [
        "Receiving objects:  84% (216/256), 84.00 KiB | 42 KiB/s   \r",
        "Receiving objects:  85% (218/256), 84.00 KiB | 42 KiB/s   \r"
       ]
      },
      {
       "output_type": "stream",
       "stream": "stdout",
       "text": [
        "Receiving objects:  85% (220/256), 84.00 KiB | 42 KiB/s   \r"
       ]
      },
      {
       "output_type": "stream",
       "stream": "stdout",
       "text": [
        "remote: Total 256 (delta 0), reused 0 (delta 0)\u001b[K\r\n",
        "Receiving objects:  86% (221/256), 116.00 KiB | 44 KiB/s   \r",
        "Receiving objects:  87% (223/256), 116.00 KiB | 44 KiB/s   \r",
        "Receiving objects:  88% (226/256), 116.00 KiB | 44 KiB/s   \r",
        "Receiving objects:  89% (228/256), 116.00 KiB | 44 KiB/s   \r",
        "Receiving objects:  90% (231/256), 116.00 KiB | 44 KiB/s   \r",
        "Receiving objects:  91% (233/256), 116.00 KiB | 44 KiB/s   \r",
        "Receiving objects:  92% (236/256), 116.00 KiB | 44 KiB/s   \r",
        "Receiving objects:  93% (239/256), 116.00 KiB | 44 KiB/s   \r",
        "Receiving objects:  94% (241/256), 116.00 KiB | 44 KiB/s   \r",
        "Receiving objects:  95% (244/256), 116.00 KiB | 44 KiB/s   \r",
        "Receiving objects:  96% (246/256), 116.00 KiB | 44 KiB/s   \r",
        "Receiving objects:  97% (249/256), 116.00 KiB | 44 KiB/s   \r",
        "Receiving objects:  98% (251/256), 116.00 KiB | 44 KiB/s   \r",
        "Receiving objects:  99% (254/256), 116.00 KiB | 44 KiB/s   \r",
        "Receiving objects: 100% (256/256), 116.00 KiB | 44 KiB/s   \r",
        "Receiving objects: 100% (256/256), 148.53 KiB | 44 KiB/s, done.\r\n",
        "Resolving deltas:   0% (0/130)   \r",
        "Resolving deltas:  50% (65/130)   \r",
        "Resolving deltas:  53% (70/130)   \r",
        "Resolving deltas:  54% (71/130)   \r",
        "Resolving deltas:  57% (75/130)   \r",
        "Resolving deltas:  69% (90/130)   \r",
        "Resolving deltas:  73% (95/130)   \r",
        "Resolving deltas:  74% (97/130)   \r",
        "Resolving deltas:  76% (99/130)   \r",
        "Resolving deltas:  77% (101/130)   \r",
        "Resolving deltas:  81% (106/130)   \r",
        "Resolving deltas:  82% (107/130)   \r",
        "Resolving deltas:  83% (108/130)   \r",
        "Resolving deltas:  84% (110/130)   \r",
        "Resolving deltas:  85% (111/130)   \r",
        "Resolving deltas:  87% (114/130)   \r",
        "Resolving deltas:  88% (115/130)   \r",
        "Resolving deltas:  90% (117/130)   \r",
        "Resolving deltas:  92% (120/130)   \r",
        "Resolving deltas:  94% (123/130)   \r",
        "Resolving deltas:  95% (124/130)   \r",
        "Resolving deltas:  97% (127/130)   \r",
        "Resolving deltas:  98% (128/130)   \r",
        "Resolving deltas: 100% (130/130)   \r",
        "Resolving deltas: 100% (130/130), done.\r\n"
       ]
      }
     ],
     "prompt_number": 1
    },
    {
     "cell_type": "code",
     "collapsed": false,
     "input": [
      "%cd galaxy-pcr-markers/"
     ],
     "language": "python",
     "metadata": {},
     "outputs": [
      {
       "output_type": "stream",
       "stream": "stdout",
       "text": [
        "/home/vagrant/galaxy-pcr-markers\n"
       ]
      }
     ],
     "prompt_number": 2
    },
    {
     "cell_type": "code",
     "collapsed": false,
     "input": [
      "!git log -1"
     ],
     "language": "python",
     "metadata": {},
     "outputs": [
      {
       "output_type": "stream",
       "stream": "stdout",
       "text": [
        "commit 868086f42cd87846b53242f206779a2884f85c40\r\n",
        "Author: Ben Warren <ben.warren@plantandfood.co.nz>\r\n",
        "Date:   Mon Jun 23 15:36:30 2014 +1200\r\n",
        "\r\n",
        "    edit: send umelt errors to STDERR. Prevent STDERR messages from causing tool failure. Print 'NA' rather than '0' for umelt prediction service calls which fail\r\n"
       ]
      }
     ],
     "prompt_number": 7
    },
    {
     "cell_type": "code",
     "collapsed": false,
     "input": [
      "%cd .."
     ],
     "language": "python",
     "metadata": {},
     "outputs": [
      {
       "output_type": "stream",
       "stream": "stdout",
       "text": [
        "/home/vagrant\n"
       ]
      }
     ],
     "prompt_number": 8
    },
    {
     "cell_type": "code",
     "collapsed": false,
     "input": [
      "!python galaxy-pcr-markers/design_primers.py \\\n",
      "-i galaxy-pcr-markers/test-data/targets.fasta \\\n",
      "-g galaxy-pcr-markers/test-data/targets.gff \\\n",
      "-T galaxy-pcr-markers/test-data/targets -n 1 "
     ],
     "language": "python",
     "metadata": {},
     "outputs": [
      {
       "output_type": "stream",
       "stream": "stdout",
       "text": [
        "SNP_Target_ID Position Ref_base Variant_base Amplicon_bp PRIMER_LEFT_SEQUENCE PRIMER_RIGHT_SEQUENCE ref_melt_Tm var_melt_Tm Tm_difference\r\n",
        "/usr/local/lib/python2.7/dist-packages/Bio/Seq.py:302: BiopythonDeprecationWarning: This method is obsolete; please use str(my_seq) instead of my_seq.tostring().\r\n",
        "  BiopythonDeprecationWarning)\r\n",
        "k69_93535:SAMTOOLS:SNP:1147 1147 C G 229 TGCTAATGACAACGAGGAGG TGTTTGGTATCGTTTCACCC 0 0 0\r\n",
        "k69_93535:SAMTOOLS:SNP:1336 1336 G A 285 GGTTTGTTTGAAGAAACGGG ACCCAGGTTTCAACTCCTTG 0 0 0\r\n"
       ]
      },
      {
       "output_type": "stream",
       "stream": "stdout",
       "text": [
        "k69_98089:SAMTOOLS:SNP:30 30 T G 259 CAAATCCAAACATGTTATCTTCTTC TTTCATAAACTCGTCCGGTG 0 0 0\r\n",
        "k69_98089:SAMTOOLS:SNP:550 550 G A 228 ATGGAGAAGGTCGAGGTCAG CGGCCGAATATACATACAACG 0 0 0\r\n",
        "k69_98089:SAMTOOLS:SNP:625 625 A G 228 ATGGAGAAGGTCGAGGTCAG CGGCCGAATATACATACAACG 0 0 0\r\n"
       ]
      }
     ],
     "prompt_number": 7
    },
    {
     "cell_type": "markdown",
     "metadata": {},
     "source": [
      "### Find any CAPS\n"
     ]
    },
    {
     "cell_type": "code",
     "collapsed": false,
     "input": [
      "!python galaxy-pcr-markers/find_CAPS.py galaxy-pcr-markers/test-data/targets.fasta galaxy-pcr-markers/test-data/targets.gff"
     ],
     "language": "python",
     "metadata": {},
     "outputs": [
      {
       "output_type": "stream",
       "stream": "stdout",
       "text": [
        "k69_93535\t1147\t1149\tk69_93535:SAMTOOLS:SNP:1147\tTaqI\tvariant\r\n"
       ]
      }
     ],
     "prompt_number": 8
    },
    {
     "cell_type": "markdown",
     "metadata": {},
     "source": [
      "### Write the notebook to a secret gist\n",
      "\n",
      "Before doing this, need to authentical from CL\n",
      "```\n",
      "gist --login\n",
      "```"
     ]
    },
    {
     "cell_type": "code",
     "collapsed": false,
     "input": [
      "!gist -p -d \"Demo notebook\" Marker\\ Design\\ Demo.ipynb"
     ],
     "language": "python",
     "metadata": {},
     "outputs": [
      {
       "output_type": "stream",
       "stream": "stdout",
       "text": [
        "https://gist.github.com/65350c4fdfe261ab9764\r\n"
       ]
      }
     ],
     "prompt_number": 13
    },
    {
     "cell_type": "markdown",
     "metadata": {},
     "source": [
      "Share this with colleagues http://nbviewer.ipython.org/gist/anonymous/65350c4fdfe261ab9764\n",
      "\n",
      "### Update the gist following changes"
     ]
    },
    {
     "cell_type": "code",
     "collapsed": false,
     "input": [
      "!gist -u https://gist.github.com/65350c4fdfe261ab9764 Marker\\ Design\\ Demo.ipynb"
     ],
     "language": "python",
     "metadata": {},
     "outputs": [
      {
       "output_type": "stream",
       "stream": "stdout",
       "text": [
        "Error: Got Net::HTTPNotFound from gist: \r\n"
       ]
      }
     ],
     "prompt_number": 16
    }
   ],
   "metadata": {}
  }
 ]
}